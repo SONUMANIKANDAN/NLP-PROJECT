{
  "nbformat": 4,
  "nbformat_minor": 0,
  "metadata": {
    "colab": {
      "provenance": []
    },
    "kernelspec": {
      "name": "python3",
      "display_name": "Python 3"
    },
    "language_info": {
      "name": "python"
    }
  },
  "cells": [
    {
      "cell_type": "markdown",
      "source": [
        "NLP With DATA ANALYSIS"
      ],
      "metadata": {
        "id": "s-TNE-bcuPCS"
      }
    },
    {
      "cell_type": "code",
      "source": [
        "#Importing Relevant Libraries\n",
        "import pandas as pd\n",
        "import numpy as np\n",
        "import matplotlib.pyplot as plt\n",
        "import seaborn as sns\n",
        "from warnings import filterwarnings\n",
        "filterwarnings('ignore')\n",
        "import plotly.express as px\n"
      ],
      "metadata": {
        "id": "S0mWDsqkuNQ0"
      },
      "execution_count": null,
      "outputs": []
    },
    {
      "cell_type": "code",
      "source": [
        "data=pd.read_excel('TestData.xlsx')"
      ],
      "metadata": {
        "id": "t-M5zVcaWXsy"
      },
      "execution_count": null,
      "outputs": []
    },
    {
      "cell_type": "code",
      "source": [
        "data.head()"
      ],
      "metadata": {
        "colab": {
          "base_uri": "https://localhost:8080/",
          "height": 206
        },
        "id": "A_hjQUA-Wda4",
        "outputId": "bd6d9e16-2d78-487f-c832-f7bd075d3295"
      },
      "execution_count": null,
      "outputs": [
        {
          "output_type": "execute_result",
          "data": {
            "text/plain": [
              "                                              Review       date     Location\n",
              "0  I was very impressed with the resort.\\n Great ... 2019-08-20    Sebastian\n",
              "1  The rooms were nice the outside needs work als... 2019-08-20  Los Angeles\n",
              "2  Great location! I have stayed at this hotel on... 2019-08-20      Georgia\n",
              "3  The hotel was adequate for my stay. The strips... 2019-08-20          NaN\n",
              "4  Great location, room was large and spacious. P... 2019-08-19  Palm Harbor"
            ],
            "text/html": [
              "\n",
              "  <div id=\"df-e8c1b5d9-74d3-4a80-acfa-6f19a461868d\" class=\"colab-df-container\">\n",
              "    <div>\n",
              "<style scoped>\n",
              "    .dataframe tbody tr th:only-of-type {\n",
              "        vertical-align: middle;\n",
              "    }\n",
              "\n",
              "    .dataframe tbody tr th {\n",
              "        vertical-align: top;\n",
              "    }\n",
              "\n",
              "    .dataframe thead th {\n",
              "        text-align: right;\n",
              "    }\n",
              "</style>\n",
              "<table border=\"1\" class=\"dataframe\">\n",
              "  <thead>\n",
              "    <tr style=\"text-align: right;\">\n",
              "      <th></th>\n",
              "      <th>Review</th>\n",
              "      <th>date</th>\n",
              "      <th>Location</th>\n",
              "    </tr>\n",
              "  </thead>\n",
              "  <tbody>\n",
              "    <tr>\n",
              "      <th>0</th>\n",
              "      <td>I was very impressed with the resort.\\n Great ...</td>\n",
              "      <td>2019-08-20</td>\n",
              "      <td>Sebastian</td>\n",
              "    </tr>\n",
              "    <tr>\n",
              "      <th>1</th>\n",
              "      <td>The rooms were nice the outside needs work als...</td>\n",
              "      <td>2019-08-20</td>\n",
              "      <td>Los Angeles</td>\n",
              "    </tr>\n",
              "    <tr>\n",
              "      <th>2</th>\n",
              "      <td>Great location! I have stayed at this hotel on...</td>\n",
              "      <td>2019-08-20</td>\n",
              "      <td>Georgia</td>\n",
              "    </tr>\n",
              "    <tr>\n",
              "      <th>3</th>\n",
              "      <td>The hotel was adequate for my stay. The strips...</td>\n",
              "      <td>2019-08-20</td>\n",
              "      <td>NaN</td>\n",
              "    </tr>\n",
              "    <tr>\n",
              "      <th>4</th>\n",
              "      <td>Great location, room was large and spacious. P...</td>\n",
              "      <td>2019-08-19</td>\n",
              "      <td>Palm Harbor</td>\n",
              "    </tr>\n",
              "  </tbody>\n",
              "</table>\n",
              "</div>\n",
              "    <div class=\"colab-df-buttons\">\n",
              "\n",
              "  <div class=\"colab-df-container\">\n",
              "    <button class=\"colab-df-convert\" onclick=\"convertToInteractive('df-e8c1b5d9-74d3-4a80-acfa-6f19a461868d')\"\n",
              "            title=\"Convert this dataframe to an interactive table.\"\n",
              "            style=\"display:none;\">\n",
              "\n",
              "  <svg xmlns=\"http://www.w3.org/2000/svg\" height=\"24px\" viewBox=\"0 -960 960 960\">\n",
              "    <path d=\"M120-120v-720h720v720H120Zm60-500h600v-160H180v160Zm220 220h160v-160H400v160Zm0 220h160v-160H400v160ZM180-400h160v-160H180v160Zm440 0h160v-160H620v160ZM180-180h160v-160H180v160Zm440 0h160v-160H620v160Z\"/>\n",
              "  </svg>\n",
              "    </button>\n",
              "\n",
              "  <style>\n",
              "    .colab-df-container {\n",
              "      display:flex;\n",
              "      gap: 12px;\n",
              "    }\n",
              "\n",
              "    .colab-df-convert {\n",
              "      background-color: #E8F0FE;\n",
              "      border: none;\n",
              "      border-radius: 50%;\n",
              "      cursor: pointer;\n",
              "      display: none;\n",
              "      fill: #1967D2;\n",
              "      height: 32px;\n",
              "      padding: 0 0 0 0;\n",
              "      width: 32px;\n",
              "    }\n",
              "\n",
              "    .colab-df-convert:hover {\n",
              "      background-color: #E2EBFA;\n",
              "      box-shadow: 0px 1px 2px rgba(60, 64, 67, 0.3), 0px 1px 3px 1px rgba(60, 64, 67, 0.15);\n",
              "      fill: #174EA6;\n",
              "    }\n",
              "\n",
              "    .colab-df-buttons div {\n",
              "      margin-bottom: 4px;\n",
              "    }\n",
              "\n",
              "    [theme=dark] .colab-df-convert {\n",
              "      background-color: #3B4455;\n",
              "      fill: #D2E3FC;\n",
              "    }\n",
              "\n",
              "    [theme=dark] .colab-df-convert:hover {\n",
              "      background-color: #434B5C;\n",
              "      box-shadow: 0px 1px 3px 1px rgba(0, 0, 0, 0.15);\n",
              "      filter: drop-shadow(0px 1px 2px rgba(0, 0, 0, 0.3));\n",
              "      fill: #FFFFFF;\n",
              "    }\n",
              "  </style>\n",
              "\n",
              "    <script>\n",
              "      const buttonEl =\n",
              "        document.querySelector('#df-e8c1b5d9-74d3-4a80-acfa-6f19a461868d button.colab-df-convert');\n",
              "      buttonEl.style.display =\n",
              "        google.colab.kernel.accessAllowed ? 'block' : 'none';\n",
              "\n",
              "      async function convertToInteractive(key) {\n",
              "        const element = document.querySelector('#df-e8c1b5d9-74d3-4a80-acfa-6f19a461868d');\n",
              "        const dataTable =\n",
              "          await google.colab.kernel.invokeFunction('convertToInteractive',\n",
              "                                                    [key], {});\n",
              "        if (!dataTable) return;\n",
              "\n",
              "        const docLinkHtml = 'Like what you see? Visit the ' +\n",
              "          '<a target=\"_blank\" href=https://colab.research.google.com/notebooks/data_table.ipynb>data table notebook</a>'\n",
              "          + ' to learn more about interactive tables.';\n",
              "        element.innerHTML = '';\n",
              "        dataTable['output_type'] = 'display_data';\n",
              "        await google.colab.output.renderOutput(dataTable, element);\n",
              "        const docLink = document.createElement('div');\n",
              "        docLink.innerHTML = docLinkHtml;\n",
              "        element.appendChild(docLink);\n",
              "      }\n",
              "    </script>\n",
              "  </div>\n",
              "\n",
              "\n",
              "<div id=\"df-1077c586-0380-4d4e-b1c5-9918be74dba0\">\n",
              "  <button class=\"colab-df-quickchart\" onclick=\"quickchart('df-1077c586-0380-4d4e-b1c5-9918be74dba0')\"\n",
              "            title=\"Suggest charts.\"\n",
              "            style=\"display:none;\">\n",
              "\n",
              "<svg xmlns=\"http://www.w3.org/2000/svg\" height=\"24px\"viewBox=\"0 0 24 24\"\n",
              "     width=\"24px\">\n",
              "    <g>\n",
              "        <path d=\"M19 3H5c-1.1 0-2 .9-2 2v14c0 1.1.9 2 2 2h14c1.1 0 2-.9 2-2V5c0-1.1-.9-2-2-2zM9 17H7v-7h2v7zm4 0h-2V7h2v10zm4 0h-2v-4h2v4z\"/>\n",
              "    </g>\n",
              "</svg>\n",
              "  </button>\n",
              "\n",
              "<style>\n",
              "  .colab-df-quickchart {\n",
              "      --bg-color: #E8F0FE;\n",
              "      --fill-color: #1967D2;\n",
              "      --hover-bg-color: #E2EBFA;\n",
              "      --hover-fill-color: #174EA6;\n",
              "      --disabled-fill-color: #AAA;\n",
              "      --disabled-bg-color: #DDD;\n",
              "  }\n",
              "\n",
              "  [theme=dark] .colab-df-quickchart {\n",
              "      --bg-color: #3B4455;\n",
              "      --fill-color: #D2E3FC;\n",
              "      --hover-bg-color: #434B5C;\n",
              "      --hover-fill-color: #FFFFFF;\n",
              "      --disabled-bg-color: #3B4455;\n",
              "      --disabled-fill-color: #666;\n",
              "  }\n",
              "\n",
              "  .colab-df-quickchart {\n",
              "    background-color: var(--bg-color);\n",
              "    border: none;\n",
              "    border-radius: 50%;\n",
              "    cursor: pointer;\n",
              "    display: none;\n",
              "    fill: var(--fill-color);\n",
              "    height: 32px;\n",
              "    padding: 0;\n",
              "    width: 32px;\n",
              "  }\n",
              "\n",
              "  .colab-df-quickchart:hover {\n",
              "    background-color: var(--hover-bg-color);\n",
              "    box-shadow: 0 1px 2px rgba(60, 64, 67, 0.3), 0 1px 3px 1px rgba(60, 64, 67, 0.15);\n",
              "    fill: var(--button-hover-fill-color);\n",
              "  }\n",
              "\n",
              "  .colab-df-quickchart-complete:disabled,\n",
              "  .colab-df-quickchart-complete:disabled:hover {\n",
              "    background-color: var(--disabled-bg-color);\n",
              "    fill: var(--disabled-fill-color);\n",
              "    box-shadow: none;\n",
              "  }\n",
              "\n",
              "  .colab-df-spinner {\n",
              "    border: 2px solid var(--fill-color);\n",
              "    border-color: transparent;\n",
              "    border-bottom-color: var(--fill-color);\n",
              "    animation:\n",
              "      spin 1s steps(1) infinite;\n",
              "  }\n",
              "\n",
              "  @keyframes spin {\n",
              "    0% {\n",
              "      border-color: transparent;\n",
              "      border-bottom-color: var(--fill-color);\n",
              "      border-left-color: var(--fill-color);\n",
              "    }\n",
              "    20% {\n",
              "      border-color: transparent;\n",
              "      border-left-color: var(--fill-color);\n",
              "      border-top-color: var(--fill-color);\n",
              "    }\n",
              "    30% {\n",
              "      border-color: transparent;\n",
              "      border-left-color: var(--fill-color);\n",
              "      border-top-color: var(--fill-color);\n",
              "      border-right-color: var(--fill-color);\n",
              "    }\n",
              "    40% {\n",
              "      border-color: transparent;\n",
              "      border-right-color: var(--fill-color);\n",
              "      border-top-color: var(--fill-color);\n",
              "    }\n",
              "    60% {\n",
              "      border-color: transparent;\n",
              "      border-right-color: var(--fill-color);\n",
              "    }\n",
              "    80% {\n",
              "      border-color: transparent;\n",
              "      border-right-color: var(--fill-color);\n",
              "      border-bottom-color: var(--fill-color);\n",
              "    }\n",
              "    90% {\n",
              "      border-color: transparent;\n",
              "      border-bottom-color: var(--fill-color);\n",
              "    }\n",
              "  }\n",
              "</style>\n",
              "\n",
              "  <script>\n",
              "    async function quickchart(key) {\n",
              "      const quickchartButtonEl =\n",
              "        document.querySelector('#' + key + ' button');\n",
              "      quickchartButtonEl.disabled = true;  // To prevent multiple clicks.\n",
              "      quickchartButtonEl.classList.add('colab-df-spinner');\n",
              "      try {\n",
              "        const charts = await google.colab.kernel.invokeFunction(\n",
              "            'suggestCharts', [key], {});\n",
              "      } catch (error) {\n",
              "        console.error('Error during call to suggestCharts:', error);\n",
              "      }\n",
              "      quickchartButtonEl.classList.remove('colab-df-spinner');\n",
              "      quickchartButtonEl.classList.add('colab-df-quickchart-complete');\n",
              "    }\n",
              "    (() => {\n",
              "      let quickchartButtonEl =\n",
              "        document.querySelector('#df-1077c586-0380-4d4e-b1c5-9918be74dba0 button');\n",
              "      quickchartButtonEl.style.display =\n",
              "        google.colab.kernel.accessAllowed ? 'block' : 'none';\n",
              "    })();\n",
              "  </script>\n",
              "</div>\n",
              "    </div>\n",
              "  </div>\n"
            ]
          },
          "metadata": {},
          "execution_count": 3
        }
      ]
    },
    {
      "cell_type": "code",
      "source": [
        "data.shape"
      ],
      "metadata": {
        "colab": {
          "base_uri": "https://localhost:8080/"
        },
        "id": "4R6XHTz-WxCQ",
        "outputId": "2b0b8b0d-767c-454d-c212-ba4af5e441b3"
      },
      "execution_count": null,
      "outputs": [
        {
          "output_type": "execute_result",
          "data": {
            "text/plain": [
              "(6448, 3)"
            ]
          },
          "metadata": {},
          "execution_count": 4
        }
      ]
    },
    {
      "cell_type": "code",
      "source": [
        "data['Location'].unique()"
      ],
      "metadata": {
        "colab": {
          "base_uri": "https://localhost:8080/"
        },
        "id": "UV42rnJBWzdw",
        "outputId": "52e87720-e58d-4460-9722-1f0cef889fbb"
      },
      "execution_count": null,
      "outputs": [
        {
          "output_type": "execute_result",
          "data": {
            "text/plain": [
              "array(['Sebastian', 'Los Angeles', 'Georgia', ..., 'India', 'Malaysia',\n",
              "       'Trinidad and Tobago'], dtype=object)"
            ]
          },
          "metadata": {},
          "execution_count": 5
        }
      ]
    },
    {
      "cell_type": "code",
      "source": [
        "data['Location'].nunique()"
      ],
      "metadata": {
        "colab": {
          "base_uri": "https://localhost:8080/"
        },
        "id": "zZva_Jp-XADQ",
        "outputId": "ace2b63f-33ff-4bc7-f6df-1a5efed11c42"
      },
      "execution_count": null,
      "outputs": [
        {
          "output_type": "execute_result",
          "data": {
            "text/plain": [
              "1082"
            ]
          },
          "metadata": {},
          "execution_count": 6
        }
      ]
    },
    {
      "cell_type": "code",
      "source": [
        "data.isna().sum()"
      ],
      "metadata": {
        "colab": {
          "base_uri": "https://localhost:8080/"
        },
        "id": "9W9oBW2cXtU0",
        "outputId": "e8fb5504-2035-48dc-8758-005033168880"
      },
      "execution_count": null,
      "outputs": [
        {
          "output_type": "execute_result",
          "data": {
            "text/plain": [
              "Review        55\n",
              "date           0\n",
              "Location    4737\n",
              "dtype: int64"
            ]
          },
          "metadata": {},
          "execution_count": 7
        }
      ]
    },
    {
      "cell_type": "code",
      "source": [
        "data1=data['date']"
      ],
      "metadata": {
        "id": "sawfSas1XRn4"
      },
      "execution_count": null,
      "outputs": []
    },
    {
      "cell_type": "code",
      "source": [
        "data1"
      ],
      "metadata": {
        "colab": {
          "base_uri": "https://localhost:8080/"
        },
        "id": "LCwHdqAuYS8A",
        "outputId": "e540d8c5-c38d-48ea-bf5d-a0616e7fa81f"
      },
      "execution_count": null,
      "outputs": [
        {
          "output_type": "execute_result",
          "data": {
            "text/plain": [
              "0      2019-08-20\n",
              "1      2019-08-20\n",
              "2      2019-08-20\n",
              "3      2019-08-20\n",
              "4      2019-08-19\n",
              "          ...    \n",
              "6443   2019-07-12\n",
              "6444   2019-07-12\n",
              "6445   2019-07-10\n",
              "6446   2019-07-10\n",
              "6447   2019-07-10\n",
              "Name: date, Length: 6448, dtype: datetime64[ns]"
            ]
          },
          "metadata": {},
          "execution_count": 9
        }
      ]
    },
    {
      "cell_type": "code",
      "source": [
        "date_series = pd.to_datetime(data1)\n"
      ],
      "metadata": {
        "id": "aCWoRheRYWMw"
      },
      "execution_count": null,
      "outputs": []
    },
    {
      "cell_type": "code",
      "source": [
        "# Find the starting date (minimum date)\n",
        "start_date = date_series.min()\n",
        "\n",
        "# Find the ending date (maximum date)\n",
        "end_date = date_series.max()\n",
        "\n",
        "# Display the results\n",
        "print(\"Starting Date:\", start_date)\n"
      ],
      "metadata": {
        "colab": {
          "base_uri": "https://localhost:8080/"
        },
        "id": "6LIvWi13YnlY",
        "outputId": "ba99522d-2cf1-44d6-9ed7-c7096b026122"
      },
      "execution_count": null,
      "outputs": [
        {
          "output_type": "stream",
          "name": "stdout",
          "text": [
            "Starting Date: 2018-08-01 00:00:00\n"
          ]
        }
      ]
    },
    {
      "cell_type": "code",
      "source": [
        "print(\"Ending Date:\", end_date)"
      ],
      "metadata": {
        "colab": {
          "base_uri": "https://localhost:8080/"
        },
        "id": "FGV31CJqZUQ4",
        "outputId": "8ec73fc6-8628-4319-d6fd-51cf5387d384"
      },
      "execution_count": null,
      "outputs": [
        {
          "output_type": "stream",
          "name": "stdout",
          "text": [
            "Ending Date: 2019-08-20 00:00:00\n"
          ]
        }
      ]
    },
    {
      "cell_type": "markdown",
      "source": [
        "## NLP"
      ],
      "metadata": {
        "id": "wpZ6J-3stw8U"
      }
    },
    {
      "cell_type": "code",
      "source": [
        "from nltk.sentiment.vader import SentimentIntensityAnalyzer"
      ],
      "metadata": {
        "id": "RWC6HLecZdb3"
      },
      "execution_count": null,
      "outputs": []
    },
    {
      "cell_type": "code",
      "source": [
        "import nltk\n",
        "nltk.download('vader_lexicon')\n"
      ],
      "metadata": {
        "colab": {
          "base_uri": "https://localhost:8080/"
        },
        "id": "c-hp_9UdcRpu",
        "outputId": "978ba306-0c40-47a8-e80e-fa9443990641"
      },
      "execution_count": null,
      "outputs": [
        {
          "output_type": "stream",
          "name": "stderr",
          "text": [
            "[nltk_data] Downloading package vader_lexicon to /root/nltk_data...\n",
            "[nltk_data]   Package vader_lexicon is already up-to-date!\n"
          ]
        },
        {
          "output_type": "execute_result",
          "data": {
            "text/plain": [
              "True"
            ]
          },
          "metadata": {},
          "execution_count": 14
        }
      ]
    },
    {
      "cell_type": "code",
      "source": [
        "analyzer = SentimentIntensityAnalyzer()\n"
      ],
      "metadata": {
        "id": "QKKJlFREb7YX"
      },
      "execution_count": null,
      "outputs": []
    },
    {
      "cell_type": "code",
      "source": [
        "# Convert the \"Text\" column to strings\n",
        "data['Review'] = data['Review'].astype(str)"
      ],
      "metadata": {
        "id": "WgpJ9MfkdMBO"
      },
      "execution_count": null,
      "outputs": []
    },
    {
      "cell_type": "code",
      "source": [
        "# Perform sentiment analysis and store the results in a new column\n",
        "data['SentimentScore'] = data['Review'].apply(lambda x: analyzer.polarity_scores(x)['compound'])"
      ],
      "metadata": {
        "id": "kKkWsHgYcBB3"
      },
      "execution_count": null,
      "outputs": []
    },
    {
      "cell_type": "code",
      "source": [
        "plt.hist(data['SentimentScore'], bins=20)\n",
        "plt.xlabel('Sentiment Score')\n",
        "plt.ylabel('Frequency')\n",
        "plt.title('Sentiment Analysis Results')\n",
        "plt.show()"
      ],
      "metadata": {
        "colab": {
          "base_uri": "https://localhost:8080/",
          "height": 472
        },
        "id": "Lw3Qhztvcm3w",
        "outputId": "bf5955da-74d5-40ff-9571-0b3993737d4e"
      },
      "execution_count": null,
      "outputs": [
        {
          "output_type": "display_data",
          "data": {
            "text/plain": [
              "<Figure size 640x480 with 1 Axes>"
            ],
            "image/png": "[encoded data removed]"
          },
          "metadata": {}
        }
      ]
    },
    {
      "cell_type": "code",
      "source": [
        "data['SentimentScore']"
      ],
      "metadata": {
        "colab": {
          "base_uri": "https://localhost:8080/"
        },
        "id": "XH1GChntdXaw",
        "outputId": "872b2527-f88a-4e9e-991b-089485717047"
      },
      "execution_count": null,
      "outputs": [
        {
          "output_type": "execute_result",
          "data": {
            "text/plain": [
              "0       0.9421\n",
              "1       0.8360\n",
              "2       0.6588\n",
              "3       0.3634\n",
              "4       0.9260\n",
              "         ...  \n",
              "6443    0.9716\n",
              "6444    0.0000\n",
              "6445    0.2975\n",
              "6446    0.0000\n",
              "6447    0.0979\n",
              "Name: SentimentScore, Length: 6448, dtype: float64"
            ]
          },
          "metadata": {},
          "execution_count": 19
        }
      ]
    },
    {
      "cell_type": "code",
      "source": [
        "# Set threshold values for categorization\n",
        "positive_threshold = 0.2\n",
        "negative_threshold = -0.2\n",
        "\n",
        "# Categorize based on sentiment scores\n",
        "data['Sentiment_Category'] = data['SentimentScore'].apply(lambda score: 'Positive' if score > positive_threshold else 'Negative' if score < negative_threshold else 'Neutral')\n",
        "\n",
        "# Print the categorized reviews\n",
        "print(data[['Review', 'Sentiment_Category']])"
      ],
      "metadata": {
        "colab": {
          "base_uri": "https://localhost:8080/"
        },
        "id": "z-jHdTnYdoR_",
        "outputId": "1bd6dda2-6b50-4933-c5db-272249ad26c8"
      },
      "execution_count": null,
      "outputs": [
        {
          "output_type": "stream",
          "name": "stdout",
          "text": [
            "                                                 Review Sentiment_Category\n",
            "0     I was very impressed with the resort.\\n Great ...           Positive\n",
            "1     The rooms were nice the outside needs work als...           Positive\n",
            "2     Great location! I have stayed at this hotel on...           Positive\n",
            "3     The hotel was adequate for my stay. The strips...           Positive\n",
            "4     Great location, room was large and spacious. P...           Positive\n",
            "...                                                 ...                ...\n",
            "6443  ·the staff were all so friendly. frank, the ch...           Positive\n",
            "6444         ·the internet barely worked or didn't work            Neutral\n",
            "6445  ·the location was great.\\n \\n \\n \\n \\n ·the be...           Positive\n",
            "6446  ·we were early for check in and the staff was ...            Neutral\n",
            "6447  ·staff, free coffee, location and activities.\\...            Neutral\n",
            "\n",
            "[6448 rows x 2 columns]\n"
          ]
        }
      ]
    },
    {
      "cell_type": "code",
      "source": [
        "data['Sentiment_Category'].unique()"
      ],
      "metadata": {
        "colab": {
          "base_uri": "https://localhost:8080/"
        },
        "id": "aQjDKxN0fQDC",
        "outputId": "b2966c39-a495-4b0a-8aad-cddf01c8eeed"
      },
      "execution_count": null,
      "outputs": [
        {
          "output_type": "execute_result",
          "data": {
            "text/plain": [
              "array(['Positive', 'Neutral', 'Negative'], dtype=object)"
            ]
          },
          "metadata": {},
          "execution_count": 21
        }
      ]
    },
    {
      "cell_type": "code",
      "source": [
        "# Print the total count of each sentiment category\n",
        "sentiment_counts = data['Sentiment_Category'].value_counts()\n",
        "print(\"\\nSentiment Category Counts:\")\n",
        "print(sentiment_counts)"
      ],
      "metadata": {
        "colab": {
          "base_uri": "https://localhost:8080/"
        },
        "id": "hgKpxFaBfdQv",
        "outputId": "8337b163-eb4f-4986-fc53-af90fd762b0d"
      },
      "execution_count": null,
      "outputs": [
        {
          "output_type": "stream",
          "name": "stdout",
          "text": [
            "\n",
            "Sentiment Category Counts:\n",
            "Positive    4257\n",
            "Negative    1103\n",
            "Neutral     1088\n",
            "Name: Sentiment_Category, dtype: int64\n"
          ]
        }
      ]
    },
    {
      "cell_type": "code",
      "source": [
        "pip install langdetect"
      ],
      "metadata": {
        "colab": {
          "base_uri": "https://localhost:8080/"
        },
        "id": "7P3QokXPf86O",
        "outputId": "800711ee-892d-4aae-8446-5c6e14222d6c"
      },
      "execution_count": null,
      "outputs": [
        {
          "output_type": "stream",
          "name": "stdout",
          "text": [
            "Requirement already satisfied: langdetect in /usr/local/lib/python3.10/dist-packages (1.0.9)\n",
            "Requirement already satisfied: six in /usr/local/lib/python3.10/dist-packages (from langdetect) (1.16.0)\n"
          ]
        }
      ]
    },
    {
      "cell_type": "code",
      "source": [
        "pip install iso639"
      ],
      "metadata": {
        "colab": {
          "base_uri": "https://localhost:8080/"
        },
        "id": "OQyhnAWplhd_",
        "outputId": "ec8a40fb-3ad0-467c-f3ad-f95789af41da"
      },
      "execution_count": null,
      "outputs": [
        {
          "output_type": "stream",
          "name": "stdout",
          "text": [
            "Requirement already satisfied: iso639 in /usr/local/lib/python3.10/dist-packages (0.1.4)\n"
          ]
        }
      ]
    },
    {
      "cell_type": "code",
      "source": [
        "from langdetect import detect, lang_detect_exception\n",
        "\n",
        "\n",
        "# Function to detect the language with error handling for short texts\n",
        "def detect_language(text):\n",
        "    try:\n",
        "        if len(text) >= 3:  # Adjust the minimum length as needed\n",
        "            return detect(text)\n",
        "        else:\n",
        "            return 'Unknown'\n",
        "    except lang_detect_exception.LangDetectException:\n",
        "        return 'Unknown'\n",
        "\n",
        "# Detect the language of each review and store it in a new column 'Language'\n",
        "data['Language'] = data['Review'].apply(detect_language)\n",
        "\n",
        "# Print the reviews along with detected languages\n",
        "print(data[['Review', 'Language']])"
      ],
      "metadata": {
        "colab": {
          "base_uri": "https://localhost:8080/"
        },
        "id": "eog7hChWi5M2",
        "outputId": "3c49eb61-909f-48cc-8d08-c72be2be32b6"
      },
      "execution_count": null,
      "outputs": [
        {
          "output_type": "stream",
          "name": "stdout",
          "text": [
            "                                                 Review Language\n",
            "0     I was very impressed with the resort.\\n Great ...       en\n",
            "1     The rooms were nice the outside needs work als...       en\n",
            "2     Great location! I have stayed at this hotel on...       en\n",
            "3     The hotel was adequate for my stay. The strips...       en\n",
            "4     Great location, room was large and spacious. P...       en\n",
            "...                                                 ...      ...\n",
            "6443  ·the staff were all so friendly. frank, the ch...       en\n",
            "6444         ·the internet barely worked or didn't work       en\n",
            "6445  ·the location was great.\\n \\n \\n \\n \\n ·the be...       en\n",
            "6446  ·we were early for check in and the staff was ...       en\n",
            "6447  ·staff, free coffee, location and activities.\\...       en\n",
            "\n",
            "[6448 rows x 2 columns]\n"
          ]
        }
      ]
    },
    {
      "cell_type": "code",
      "source": [
        "data['Language'].unique()"
      ],
      "metadata": {
        "colab": {
          "base_uri": "https://localhost:8080/"
        },
        "id": "l3JW1y5BjxvW",
        "outputId": "2b357a48-48f7-4dc8-82a2-faa0b92bcae9"
      },
      "execution_count": null,
      "outputs": [
        {
          "output_type": "execute_result",
          "data": {
            "text/plain": [
              "array(['en', 'es', 'ja', 'fr', 'tl', 'it', 'de', 'nl', 'Unknown', 'zh-cn',\n",
              "       'sv', 'da', 'pt', 'no', 'zh-tw', 'ko', 'ca', 'fi', 'et', 'af',\n",
              "       'pl', 'ru', 'he', 'ar'], dtype=object)"
            ]
          },
          "metadata": {},
          "execution_count": 26
        }
      ]
    },
    {
      "cell_type": "code",
      "source": [
        "data['Language'].nunique()"
      ],
      "metadata": {
        "colab": {
          "base_uri": "https://localhost:8080/"
        },
        "id": "yAhBxmVLkbfN",
        "outputId": "a8e3d352-4567-436a-f92d-c4bf44a48bc3"
      },
      "execution_count": null,
      "outputs": [
        {
          "output_type": "execute_result",
          "data": {
            "text/plain": [
              "24"
            ]
          },
          "metadata": {},
          "execution_count": 27
        }
      ]
    },
    {
      "cell_type": "code",
      "source": [
        "# Print the total count of each language category\n",
        "language_counts = data['Language'].value_counts()\n",
        "print(\"\\nLanguage Category Counts:\")\n",
        "print(language_counts)"
      ],
      "metadata": {
        "colab": {
          "base_uri": "https://localhost:8080/"
        },
        "id": "1mlfs1TLkmQN",
        "outputId": "7d665ef7-eb9d-463b-8d3f-0f9cb1607889"
      },
      "execution_count": null,
      "outputs": [
        {
          "output_type": "stream",
          "name": "stdout",
          "text": [
            "\n",
            "Language Category Counts:\n",
            "en         5865\n",
            "es          166\n",
            "de           90\n",
            "fr           73\n",
            "tl           55\n",
            "it           35\n",
            "ja           34\n",
            "pt           31\n",
            "nl           23\n",
            "da           19\n",
            "no           10\n",
            "ko           10\n",
            "sv            8\n",
            "et            5\n",
            "af            5\n",
            "zh-cn         4\n",
            "fi            4\n",
            "ca            3\n",
            "pl            2\n",
            "ru            2\n",
            "Unknown       1\n",
            "zh-tw         1\n",
            "he            1\n",
            "ar            1\n",
            "Name: Language, dtype: int64\n"
          ]
        }
      ]
    },
    {
      "cell_type": "code",
      "source": [
        "plt.hist(data['Language'], bins=20)\n",
        "plt.xlabel('Language')\n",
        "plt.ylabel('Frequency')\n",
        "plt.title('Language Category')\n",
        "plt.show()"
      ],
      "metadata": {
        "colab": {
          "base_uri": "https://localhost:8080/",
          "height": 472
        },
        "id": "qp22IYYssQRz",
        "outputId": "d76b3916-7171-40bb-e0e0-8fdc3bac260b"
      },
      "execution_count": null,
      "outputs": [
        {
          "output_type": "display_data",
          "data": {
            "text/plain": [
              "<Figure size 640x480 with 1 Axes>"
            ],
            "image/png": "[encoded data removed]"
          },
          "metadata": {}
        }
      ]
    },
    {
      "cell_type": "code",
      "source": [
        "# Create a histogram\n",
        "plt.hist(data['Language'], bins=20)\n",
        "# Apply a logarithmic scale to the y-axis\n",
        "plt.yscale('log')\n",
        "plt.xlabel('Language')\n",
        "plt.xticks(rotation=90)\n",
        "plt.ylabel('Frequency')\n",
        "plt.title('Language Category_Log scale ')\n",
        "plt.show()"
      ],
      "metadata": {
        "colab": {
          "base_uri": "https://localhost:8080/",
          "height": 522
        },
        "id": "WyFt9Qz0sdjk",
        "outputId": "c00144f1-f2e7-4d43-ea12-346d74779cca"
      },
      "execution_count": null,
      "outputs": [
        {
          "output_type": "display_data",
          "data": {
            "text/plain": [
              "<Figure size 640x480 with 1 Axes>"
            ],
            "image/png": "[encoded data removed]"
          },
          "metadata": {}
        }
      ]
    },
    {
      "cell_type": "code",
      "source": [],
      "metadata": {
        "id": "uGpeXEwRs9Mk"
      },
      "execution_count": null,
      "outputs": []
    }
  ]
}